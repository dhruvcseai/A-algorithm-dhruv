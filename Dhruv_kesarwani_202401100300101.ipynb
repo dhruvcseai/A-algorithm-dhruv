{
  "nbformat": 4,
  "nbformat_minor": 0,
  "metadata": {
    "colab": {
      "provenance": []
    },
    "kernelspec": {
      "name": "python3",
      "display_name": "Python 3"
    },
    "language_info": {
      "name": "python"
    }
  },
  "cells": [
    {
      "cell_type": "code",
      "execution_count": null,
      "metadata": {
        "id": "BCAbbpQenJfX"
      },
      "outputs": [],
      "source": []
    },
    {
      "cell_type": "code",
      "source": [],
      "metadata": {
        "id": "QJv0ckkLnU_Q"
      },
      "execution_count": null,
      "outputs": []
    },
    {
      "cell_type": "markdown",
      "source": [],
      "metadata": {
        "id": "QhQj4lhwnrcd"
      }
    },
    {
      "cell_type": "code",
      "source": [],
      "metadata": {
        "id": "6MhANXM9ntZO"
      },
      "execution_count": null,
      "outputs": []
    },
    {
      "cell_type": "code",
      "source": [
        "def a_star(grid, start, end):\n",
        "    rows, cols = len(grid), len(grid[0])\n",
        "    open_list = [start]\n",
        "    came_from = {}\n",
        "    g_score = {start: 0}\n",
        "    f_score = {start: abs(start[0] - end[0]) + abs(start[1] - end[1])}\n",
        "\n",
        "    while open_list:\n",
        "        open_list.sort(key=lambda pos: f_score.get(pos, float('inf')))\n",
        "        current = open_list.pop(0)\n",
        "\n",
        "        if current == end:\n",
        "            path = []\n",
        "            while current in came_from:\n",
        "                path.append(current)\n",
        "                current = came_from[current]\n",
        "            path.append(start)\n",
        "            return path[::-1]\n",
        "\n",
        "        neighbors = [(current[0] + d[0], current[1] + d[1]) for d in [(0, 1), (0, -1), (1, 0), (-1, 0)]]\n",
        "        neighbors = [pos for pos in neighbors if 0 <= pos[0] < rows and 0 <= pos[1] < cols and grid[pos[0]][pos[1]] == 0]\n",
        "\n",
        "        for neighbor in neighbors:\n",
        "            temp_g_score = g_score[current] + 1\n",
        "            if temp_g_score < g_score.get(neighbor, float('inf')):\n",
        "                came_from[neighbor] = current\n",
        "                g_score[neighbor] = temp_g_score\n",
        "                f_score[neighbor] = temp_g_score + abs(neighbor[0] - end[0]) + abs(neighbor[1] - end[1])\n",
        "                if neighbor not in open_list:\n",
        "                    open_list.append(neighbor)\n",
        "\n",
        "    return None  # No path found\n",
        "\n",
        "# Example usage\n",
        "grid = [\n",
        "    [0, 1, 0, 0, 0],\n",
        "    [0, 1, 0, 1, 0],\n",
        "    [0, 0, 0, 1, 0],\n",
        "    [1, 1, 0, 1, 0],\n",
        "    [0, 0, 0, 0, 0]\n",
        "]\n",
        "\n",
        "start = (0, 0)\n",
        "end = (4, 4)\n",
        "path = a_star(grid, start, end)\n",
        "print(\"Path:\", path)"
      ],
      "metadata": {
        "colab": {
          "base_uri": "https://localhost:8080/"
        },
        "id": "_mxMDrrnjvAf",
        "outputId": "19150143-ef46-43ec-96dd-b0e2545c13ba"
      },
      "execution_count": null,
      "outputs": [
        {
          "output_type": "stream",
          "name": "stdout",
          "text": [
            "Path: [(0, 0), (1, 0), (2, 0), (2, 1), (2, 2), (3, 2), (4, 2), (4, 3), (4, 4)]\n"
          ]
        }
      ]
    }
  ]
}